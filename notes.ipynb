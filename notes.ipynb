{
 "cells": [
  {
   "cell_type": "code",
   "execution_count": null,
   "id": "af354bf4",
   "metadata": {},
   "outputs": [],
   "source": [
    "import gymnasium as gym\n",
    "import mani_skill.envs\n",
    "\n",
    "env = gym.make(\n",
    "    \"SO100GraspCube-v1\",\n",
    "    obs_mode=\"rgb+segmentation\",\n",
    "    control_mode=\"pd_joint_delta_pos\",\n",
    "    num_envs=16,\n",
    ")\n",
    "print(env.observation_space) # will now have shape (16, ...)\n",
    "print(env.action_space) # will now have shape (16, ...)\n",
    "# env.single_observation_space and env.single_action_space provide non batched spaces\n",
    "\n",
    "obs, _ = env.reset(seed=0) # reset with a seed for determinism\n",
    "for i in range(200):\n",
    "    action = env.action_space.sample() # this is batched now\n",
    "    obs, reward, terminated, truncated, info = env.step(action)\n",
    "    print(obs.keys())\n",
    "    done = terminated | truncated\n",
    "    print(f\"Obs shape: {obs.shape}, Reward shape {reward.shape}, Done shape {done.shape}\")\n",
    "env.close()"
   ]
  }
 ],
 "metadata": {
  "kernelspec": {
   "display_name": ".venv (3.11.11)",
   "language": "python",
   "name": "python3"
  },
  "language_info": {
   "codemirror_mode": {
    "name": "ipython",
    "version": 3
   },
   "file_extension": ".py",
   "mimetype": "text/x-python",
   "name": "python",
   "nbconvert_exporter": "python",
   "pygments_lexer": "ipython3",
   "version": "3.11.11"
  }
 },
 "nbformat": 4,
 "nbformat_minor": 5
}
